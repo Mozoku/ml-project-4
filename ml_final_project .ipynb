{
  "nbformat": 4,
  "nbformat_minor": 0,
  "metadata": {
    "colab": {
      "name": "ml final project",
      "provenance": [],
      "collapsed_sections": []
    },
    "kernelspec": {
      "name": "python3",
      "display_name": "Python 3"
    },
    "language_info": {
      "name": "python"
    }
  },
  "cells": [
    {
      "cell_type": "code",
      "metadata": {
        "id": "Vz_27lRmbbnO"
      },
      "source": [
        "#ADM NO 101358\n",
        "import tensorflow as tf\n",
        "from tensorflow.keras.layers import (Input, Conv2D, MaxPooling2D, Flatten, \n",
        "                                     Dense, Dropout, BatchNormalization)\n",
        "import numpy as np\n",
        "import matplotlib.pyplot as plt \n",
        "# get mnist fashion dataset\n",
        "fashion_mnist = tf.keras.datasets.fashion_mnist\n",
        "\n",
        "(x_train, y_train), (x_test, y_test) = fashion_mnist.load_data()"
      ],
      "execution_count": 72,
      "outputs": []
    },
    {
      "cell_type": "code",
      "metadata": {
        "id": "YUq_C5OKc5_K"
      },
      "source": [
        "# normalize/scale the data\n",
        "x_train = tf.keras.utils.normalize(x_train, axis=1)\n",
        "#x_train = np.expand_dims(x_train, axis=-1)\n",
        "x_test = tf.keras.utils.normalize(x_test, axis=1)\n",
        "#x_test = np.expand_dims(x_test, axis=-1)"
      ],
      "execution_count": 73,
      "outputs": []
    },
    {
      "cell_type": "code",
      "metadata": {
        "id": "j8DidZZedxiu"
      },
      "source": [
        "labels =[\"T-shirt/top\", \"Trouser\", \"Pullover\", \"Dress\", \"Coat\", \"Sandal\", \"Shirt\", \"Sneaker\", \"Bag\", \"Ankle boot\"]"
      ],
      "execution_count": 74,
      "outputs": []
    },
    {
      "cell_type": "code",
      "metadata": {
        "colab": {
          "base_uri": "https://localhost:8080/"
        },
        "id": "ZzglzebKebAZ",
        "outputId": "e39f19e2-b6c0-4108-9b93-323debc8dda4"
      },
      "source": [
        "model = tf.keras.models.Sequential()\n",
        "model.add(tf.keras.layers.Flatten())\n",
        "model.add(tf.keras.layers.Dense(256, activation=tf.nn.relu))\n",
        "# model.add(tf.keras.layers.Dense(256, activation=tf.nn.relu))\n",
        "model.add(tf.keras.layers.Dense(512, activation=tf.nn.relu))\n",
        "model.add(tf.keras.layers.Dense(256, activation=tf.nn.relu))\n",
        "# model.add(tf.keras.layers.Dense(256, activation=tf.nn.relu))\n",
        "model.add(tf.keras.layers.Dense(10, activation=tf.nn.softmax))\n",
        "\n",
        "model.compile(optimizer=\"adam\", loss=\"sparse_categorical_crossentropy\", metrics=[\"accuracy\"])\n",
        "model.fit(x_train, y_train, epochs=10)"
      ],
      "execution_count": 75,
      "outputs": [
        {
          "output_type": "stream",
          "text": [
            "Epoch 1/10\n",
            "1875/1875 [==============================] - 12s 6ms/step - loss: 0.4692 - accuracy: 0.8261\n",
            "Epoch 2/10\n",
            "1875/1875 [==============================] - 11s 6ms/step - loss: 0.3553 - accuracy: 0.8697\n",
            "Epoch 3/10\n",
            "1875/1875 [==============================] - 11s 6ms/step - loss: 0.3193 - accuracy: 0.8799\n",
            "Epoch 4/10\n",
            "1875/1875 [==============================] - 11s 6ms/step - loss: 0.2939 - accuracy: 0.8898\n",
            "Epoch 5/10\n",
            "1875/1875 [==============================] - 11s 6ms/step - loss: 0.2762 - accuracy: 0.8959\n",
            "Epoch 6/10\n",
            "1875/1875 [==============================] - 11s 6ms/step - loss: 0.2578 - accuracy: 0.9020\n",
            "Epoch 7/10\n",
            "1875/1875 [==============================] - 11s 6ms/step - loss: 0.2432 - accuracy: 0.9075\n",
            "Epoch 8/10\n",
            "1875/1875 [==============================] - 11s 6ms/step - loss: 0.2334 - accuracy: 0.9116\n",
            "Epoch 9/10\n",
            "1875/1875 [==============================] - 11s 6ms/step - loss: 0.2226 - accuracy: 0.9143\n",
            "Epoch 10/10\n",
            "1875/1875 [==============================] - 11s 6ms/step - loss: 0.2116 - accuracy: 0.9188\n"
          ],
          "name": "stdout"
        },
        {
          "output_type": "execute_result",
          "data": {
            "text/plain": [
              "<keras.callbacks.History at 0x7f4e56f63810>"
            ]
          },
          "metadata": {},
          "execution_count": 75
        }
      ]
    },
    {
      "cell_type": "code",
      "metadata": {
        "colab": {
          "base_uri": "https://localhost:8080/"
        },
        "id": "k3aMa5_-f3-Y",
        "outputId": "ec985c93-f5a7-44ac-be75-bf88c012bf60"
      },
      "source": [
        "val_loss, val_acc = model.evaluate(x_test, y_test)\n",
        "print(val_loss, val_acc)"
      ],
      "execution_count": 76,
      "outputs": [
        {
          "output_type": "stream",
          "text": [
            "313/313 [==============================] - 1s 2ms/step - loss: 0.3453 - accuracy: 0.8805\n",
            "0.34532007575035095 0.8805000185966492\n"
          ],
          "name": "stdout"
        }
      ]
    },
    {
      "cell_type": "code",
      "metadata": {
        "colab": {
          "base_uri": "https://localhost:8080/"
        },
        "id": "-bLmN95dhYf2",
        "outputId": "c127f220-1c78-45e6-bad1-084c3624708d"
      },
      "source": [
        "predictions = model.predict([x_test])"
      ],
      "execution_count": 77,
      "outputs": [
        {
          "output_type": "stream",
          "text": [
            "WARNING:tensorflow:Layers in a Sequential model should only have a single input tensor, but we receive a <class 'tuple'> input: (<tf.Tensor 'IteratorGetNext:0' shape=(None, 28, 28) dtype=float32>,)\n",
            "Consider rewriting this model with the Functional API.\n"
          ],
          "name": "stdout"
        }
      ]
    },
    {
      "cell_type": "code",
      "metadata": {
        "colab": {
          "base_uri": "https://localhost:8080/",
          "height": 282
        },
        "id": "V6wctYHXg6KW",
        "outputId": "7e679f8f-89e6-4ec2-aac6-260b5447071c"
      },
      "source": [
        "\n",
        "predict_val = 659\n",
        "print(f\"{np.argmax(predictions[predict_val])} Label = {labels[np.argmax(predictions[predict_val])]}\")\n",
        "plt.imshow(x_train[predict_val])\n",
        "plt.show()"
      ],
      "execution_count": 80,
      "outputs": [
        {
          "output_type": "stream",
          "text": [
            "4 Label = Coat\n"
          ],
          "name": "stdout"
        },
        {
          "output_type": "display_data",
          "data": {
            "image/png": "[encoded data removed]",
            "text/plain": [
              "<Figure size 432x288 with 1 Axes>"
            ]
          },
          "metadata": {
            "needs_background": "light"
          }
        }
      ]
    },
    {
      "cell_type": "markdown",
      "metadata": {
        "id": "NuWNih21HzfJ"
      },
      "source": [
        "Numpy is used to calculate the probability distribution. 3 dense layers trained for 10 epochs seems to give the best performance measure. We track the Accuracy metric, it is the fraction of predictions our model got right. \n",
        "This is done to evaluate the model on the primary task which is to correctly classify the fashion mnist data. "
      ]
    }
  ]
}